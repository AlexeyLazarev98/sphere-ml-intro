{
 "cells": [
  {
   "cell_type": "markdown",
   "metadata": {},
   "source": [
    "# Программа «Практический анализ данных и машинное обучение»\n",
    "## Анализ социальных сетей:  Методы выявления сообществ, структурное сходство вершин\n",
    "\n",
    "Преподаватели: Шестаков Андрей, Докукина София"
   ]
  },
  {
   "cell_type": "code",
   "execution_count": 1,
   "metadata": {
    "collapsed": true
   },
   "outputs": [],
   "source": [
    "import igraph as ig\n",
    "import matplotlib.pyplot as plt\n",
    "import seaborn as sns\n",
    "import pandas as pd\n",
    "import numpy as np\n",
    "\n",
    "from IPython.display import Image, display\n",
    "\n",
    "%matplotlib inline\n",
    "\n",
    "plt.style.use('ggplot')\n",
    "plt.rcParams['figure.figsize'] = (12,5)"
   ]
  },
  {
   "cell_type": "code",
   "execution_count": 84,
   "metadata": {
    "collapsed": true
   },
   "outputs": [],
   "source": [
    "# Утилька для рисования графов с лейблами\n",
    "def plot_graph(g, settings=dict()):\n",
    "    ig.plot(g, 'graph.png', **settings)\n",
    "    display(Image(filename='graph.png'))"
   ]
  },
  {
   "cell_type": "markdown",
   "metadata": {},
   "source": [
    "# Сеть на основе вселенной Игры Престолов (spoiler alert!)"
   ]
  },
  {
   "cell_type": "markdown",
   "metadata": {},
   "source": [
    "Рассмотрим две таблички: `characters.csv` и `events.csv`. Названия говорят сами за себя - в  `characters.csv` содержится информация о персонажах серии романов, а в `events.csv` описание событий. Мы будем рассматривать события, которыми славится Игры Престолов - убийства.\n",
    "\n",
    "В первом файле, помимо индетификатора персонажа (`characterID`), нас будут интересовать поля имени (`Name`) и его группы (`Team`). <br/>\n",
    "Во втором - события убийства  (`event = killed`) и поле с указанием убитого (`characterID`) и убийцы (`withID`)\n",
    "\n",
    "#### Задание\n",
    "* Постройте сеть (направленный граф) убийств персонажей. В каждой вершине должен быть сохранен атрибут имени и группы\n",
    "* Переиндексируйте идентификаторы вершин начиная с `0` и проиндексируйте группы, тоже начиная с `0`. В функции `assortativity_nominal` требуется, чтобы атрибут был закодирован как число\n",
    "* Посчитайте коэффициент ассортативности по отношению к атрибуту \"группа\", который в данном контексте можно интерпретировать как \"склонность убивать своих\". Проинтерпретируйте полученный результат"
   ]
  },
  {
   "cell_type": "code",
   "execution_count": 1,
   "metadata": {
    "collapsed": true
   },
   "outputs": [],
   "source": [
    "## Your Code Here"
   ]
  },
  {
   "cell_type": "markdown",
   "metadata": {},
   "source": [
    "# Node Similarities"
   ]
  },
  {
   "cell_type": "markdown",
   "metadata": {},
   "source": [
    "Понятие **\"эквивалетности\"** вершин можно ославить до **\"схожести\"** вершин - некоторая мера структурной близости вершин. \n",
    "\n",
    "Наиболее распространенные практиеские применения мер сходства:\n",
    "* Выявление сообществ\n",
    "* Предсказание связей"
   ]
  },
  {
   "cell_type": "markdown",
   "metadata": {},
   "source": [
    "## Примеры мер сходства\n",
    "\n",
    "#### Jaccard Similarity\n",
    "$$ s(v_i, v_j) = \\frac{|N(v_i) \\cap N(v_j)|}{|N(v_i) \\cup N(v_j)|} $$\n",
    "\n",
    "#### Cosine Similarity\n",
    "$$ s(v_i, v_j) = \\frac{\\langle A_{i \\cdot}, A_{j \\cdot} \\rangle}{\\sqrt{\\sum_k A^2_{ik}} \\sqrt{\\sum_k A^2_{jk}}} $$\n",
    "\n",
    "#### Correlation\n",
    "$$ s(v_i, v_j) = \\frac{\\sum_k (A_{ik} - \\bar{A}_{i\\cdot}) (A_{jk} - \\bar{A}_{j\\cdot})}{\\sqrt{\\sum_k (A_{ik} - \\bar{A}_{i\\cdot})^2} \\sqrt{\\sum_k (A_{jk} - \\bar{A}_{j\\cdot})^2}} $$\n",
    "\n",
    "#### Adamic-Adar Score\n",
    "$$ s(v_i, v_j) = \\sum\\limits_{z \\in N(v_i) \\cap N(v_j)} \\frac{1}{\\log(|N(z)|)} $$\n",
    "\n",
    "#### Preferential Attachment Score\n",
    "$$ s(v_i, v_j) = |N(v_i)| \\cdot |N(v_j)| $$\n",
    "\n",
    "#### Katz Score\n",
    "$$ s(v_i, v_j) = \\sum\\limits_{l=1} \\beta^l |\\text{numPaths}(l, v_i, v_j)| $$"
   ]
  },
  {
   "cell_type": "markdown",
   "metadata": {},
   "source": [
    "#### Задание\n",
    "* Загрузите граф из `nested_partition.gml`. Это граф, построенный с помощью [генератора](https://sites.google.com/site/santofortunato/inthepress2) Benchmark сетей для тестов алгоритмов выявления сообществ.\n",
    "* Визуализируйте матрицу смежности графа с помощью метода `plt.spy(A)` (и саму сеть, если получится)\n",
    "* Рассчитайте реализованные в `igraph` меры схожести вершин: `similarity_jaccard` и `similarity_inverse_log_weighted`. Визуализируйте полученный результат\n",
    "\n",
    "По большому счету, полученные схожести можно подавать на вход любому алгоритму кластеризации, который изначально может работать со мерами близости (например аггломеративная кластеризация)"
   ]
  },
  {
   "cell_type": "code",
   "execution_count": 210,
   "metadata": {
    "collapsed": true
   },
   "outputs": [],
   "source": [
    "## Your Code Here"
   ]
  },
  {
   "cell_type": "markdown",
   "metadata": {},
   "source": [
    "## Community Detection"
   ]
  },
  {
   "cell_type": "markdown",
   "metadata": {},
   "source": [
    "### Оценка качества кластеризации при известном groud truth\n",
    "\n",
    "#### Доля правильно кластеризованных вешин\n",
    "Пусть $\\hat{\\pi}$ - это полученное разбиение на сообщества, а $\\pi^*$ - ground truth. Тогда доля правильно угаданных меток рассчитывается как\n",
    "\n",
    "$$ Acc(\\hat{\\pi}, \\pi^*) = \\frac{\\text{# of correctly clustered obs}}{N} \\text{,}$$\n",
    "где вершина считается правильно кластеризованной, если **хотя бы половина** вершин из того же кластера в $\\hat{\\pi}$ относится к некоторому кластеру в $\\pi^*$\n",
    "\n",
    "#### Adjusted Rand Index\n",
    "\n",
    "$$ \\text{Rand}(\\hat{\\pi},\\pi^*) = \\frac{a + d}{a + b + c + d} \\text{,}$$\n",
    "где \n",
    "* $a$ количество пар вершин, находящихся в одинаковых кластерах в $\\hat{\\pi}$ и\n",
    "$\\pi^*$, \n",
    "* $b$ ($c$) количество пар вершин в одном и том же сообществе в  $\\hat{\\pi}$ ($\\pi^*$), но в разных в  $\\pi^*$ ($\\hat{\\pi}$)\n",
    "* $d$ количество пар вершин в разных кластерах в $\\hat{\\pi}$ и $\\pi^*$\n",
    "\n",
    "Adjusted Rand Index - корректировка Rand index:\n",
    "\n",
    "$$\\text{ARI}(\\hat{\\pi},\\pi^*)   = \\frac{\\text{Rand}(\\hat{\\pi},\\pi^*) - \\text{Expected}}{\\text{Max} - \\text{Expected}}$$\n",
    "\n",
    "Так же есть **[Normalized Mutual Information](http://en.wikipedia.org/wiki/Mutual_information)**, но результаты этой метрики схожи с ARI"
   ]
  },
  {
   "cell_type": "markdown",
   "metadata": {},
   "source": [
    "####  Задание\n",
    "В igraph реализовано довольно много методов выявления сообществ. Все реализации начинаются с `community_`. \n",
    "\n",
    "* Выберите один из изученных на лекции алгоритмов и оцените его качество с помощью ARI.\n",
    "* ARI реализовано в ig.compare_communities()"
   ]
  },
  {
   "cell_type": "code",
   "execution_count": 220,
   "metadata": {
    "collapsed": true
   },
   "outputs": [],
   "source": [
    "# Your Code Here"
   ]
  },
  {
   "cell_type": "markdown",
   "metadata": {},
   "source": [
    "### Меры качества кластеризации без ground truth"
   ]
  },
  {
   "cell_type": "markdown",
   "metadata": {},
   "source": [
    "Как и в \"табличной\" кластеризации, качество community detection можно оценить и без ground truth. Для этого считают так называемые scoring functions.\n",
    "\n",
    "Чего бы нам хотелось получить от выявленного сообщества (разбиения на сообщества):\n",
    "* Плотности ребер внутри сообщества\n",
    "* БОльшая доря ребер внутри сообщества относительно ребер, связывающих его с внешним миром\n",
    "* Высокий коэффициент кластаризации внутри сообщества (относительно среднего по сети)\n",
    "* Высокая модулярность $$ Q = \\frac{1}{2m} \\sum\\limits_{ij}\\left(A_{ij} - \\frac{k_i k_j}{2m}\\right)\\delta(\\mathcal{C}_i,\\mathcal{C}_j), $$ где $\\delta(\\cdot,\\cdot)$ - *дельта символ Кронекера*, а  $\\mathcal{C}_i$ - метка кластера для вершини $v_i$.\n",
    "* ...\n",
    "\n",
    "В [статье](https://arxiv.org/pdf/1205.6233.pdf) можно найти наиболее полный набор так называемых scoring functions\n",
    "\n",
    "#### Задание\n",
    "Реализуйте и расчитайте данные scoring functions."
   ]
  },
  {
   "cell_type": "code",
   "execution_count": 229,
   "metadata": {
    "collapsed": true
   },
   "outputs": [],
   "source": [
    "## Your Code Here"
   ]
  }
 ],
 "metadata": {
  "anaconda-cloud": {},
  "author": "shestakoff_andrey",
  "kernelspec": {
   "display_name": "Python 3",
   "language": "python",
   "name": "python3"
  },
  "language_info": {
   "codemirror_mode": {
    "name": "ipython",
    "version": 3
   },
   "file_extension": ".py",
   "mimetype": "text/x-python",
   "name": "python",
   "nbconvert_exporter": "python",
   "pygments_lexer": "ipython3",
   "version": "3.7.3"
  },
  "mailto": "shestakoffandrey@gmail.com",
  "nav_menu": {},
  "toc": {
   "base_numbering": 1,
   "nav_menu": {},
   "number_sections": false,
   "sideBar": true,
   "skip_h1_title": false,
   "title_cell": "Table of Contents",
   "title_sidebar": "Contents",
   "toc_cell": false,
   "toc_position": {},
   "toc_section_display": "block",
   "toc_window_display": true
  }
 },
 "nbformat": 4,
 "nbformat_minor": 2
}
